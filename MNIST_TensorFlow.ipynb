{
 "metadata": {
  "language_info": {
   "codemirror_mode": {
    "name": "ipython",
    "version": 3
   },
   "file_extension": ".py",
   "mimetype": "text/x-python",
   "name": "python",
   "nbconvert_exporter": "python",
   "pygments_lexer": "ipython3",
   "version": "3.8.4"
  },
  "orig_nbformat": 2,
  "kernelspec": {
   "name": "python384jvsc74a57bd0aee8b7b246df8f9039afb4144a1f6fd8d2ca17a180786b69acc140d282b71a49",
   "display_name": "Python 3.8.4 64-bit"
  },
  "metadata": {
   "interpreter": {
    "hash": "aee8b7b246df8f9039afb4144a1f6fd8d2ca17a180786b69acc140d282b71a49"
   }
  }
 },
 "nbformat": 4,
 "nbformat_minor": 2,
 "cells": [
  {
   "source": [
    "# Tensorflow Version"
   ],
   "cell_type": "markdown",
   "metadata": {}
  },
  {
   "cell_type": "code",
   "execution_count": 1,
   "metadata": {},
   "outputs": [],
   "source": [
    "import tensorflow as tf\n",
    "from tensorflow.keras.datasets import mnist\n",
    "from tensorflow.keras.utils import to_categorical\n",
    "from tensorflow.keras.layers import Flatten, Dense, Dropout\n",
    "from tensorflow.keras.losses import CategoricalCrossentropy"
   ]
  },
  {
   "source": [
    "** Load MNIST Data**"
   ],
   "cell_type": "markdown",
   "metadata": {}
  },
  {
   "cell_type": "code",
   "execution_count": 2,
   "metadata": {},
   "outputs": [],
   "source": [
    "(x_train, y_train), (x_test, y_test) = mnist.load_data()"
   ]
  },
  {
   "cell_type": "code",
   "execution_count": 3,
   "metadata": {},
   "outputs": [
    {
     "output_type": "stream",
     "name": "stdout",
     "text": [
      "The shape of training images: (60000, 28, 28) and training labels: (60000,)\nThe shape of test images: (10000, 28, 28) and test labels: (10000,)\n"
     ]
    }
   ],
   "source": [
    "print('The shape of training images: {} and training labels: {}'.format(x_train.shape, y_train.shape))\n",
    "print('The shape of test images: {} and test labels: {}'.format(x_test.shape, y_test.shape))"
   ]
  },
  {
   "source": [
    "** Standardize Image Data and One Hot Encode Labels**"
   ],
   "cell_type": "markdown",
   "metadata": {}
  },
  {
   "cell_type": "code",
   "execution_count": 4,
   "metadata": {},
   "outputs": [],
   "source": [
    "training_sample, test_sample = 60000, 10000 # select how much of the data to use\n",
    "\n",
    "x_train = x_train[:training_sample,:,:].astype('float64') / 255\n",
    "y_train = to_categorical(y_train[:training_sample])\n",
    "\n",
    "x_test = x_test[:test_sample,:,:].astype('float64') / 255\n",
    "y_test = to_categorical(y_test[:test_sample])"
   ]
  },
  {
   "cell_type": "code",
   "execution_count": 5,
   "metadata": {},
   "outputs": [
    {
     "output_type": "stream",
     "name": "stdout",
     "text": [
      "The shape of training images: (60000, 28, 28) and training labels: (60000, 10)\nThe shape of test images: (10000, 28, 28) and test labels: (10000, 10)\n"
     ]
    }
   ],
   "source": [
    "print('The shape of training images: {} and training labels: {}'.format(x_train.shape, y_train.shape))\n",
    "print('The shape of test images: {} and test labels: {}'.format(x_test.shape, y_test.shape))"
   ]
  },
  {
   "source": [
    "** Initialize Model **"
   ],
   "cell_type": "markdown",
   "metadata": {}
  },
  {
   "cell_type": "code",
   "execution_count": 6,
   "metadata": {
    "tags": []
   },
   "outputs": [],
   "source": [
    "initializer = tf.keras.initializers.HeNormal()\n",
    "\n",
    "model = tf.keras.Sequential([\n",
    "    Flatten(input_shape=(28, 28)),\n",
    "    Dense(256, activation='relu', kernel_initializer=initializer),\n",
    "    Dense(10, activation = 'softmax', kernel_initializer=initializer)\n",
    "])"
   ]
  },
  {
   "source": [
    "** Compile **"
   ],
   "cell_type": "markdown",
   "metadata": {}
  },
  {
   "cell_type": "code",
   "execution_count": 7,
   "metadata": {},
   "outputs": [],
   "source": [
    "optimizer = tf.keras.optimizers.SGD(lr=0.1)\n",
    "\n",
    "model.compile(optimizer=optimizer,\n",
    "              loss=CategoricalCrossentropy(),\n",
    "              metrics=['accuracy'])"
   ]
  },
  {
   "source": [
    "** Fit **"
   ],
   "cell_type": "markdown",
   "metadata": {}
  },
  {
   "cell_type": "code",
   "execution_count": 8,
   "metadata": {},
   "outputs": [
    {
     "output_type": "stream",
     "name": "stdout",
     "text": [
      "Epoch 1/100\n",
      "59/59 [==============================] - 2s 24ms/step - loss: 1.4245 - accuracy: 0.6183\n",
      "Epoch 2/100\n",
      "59/59 [==============================] - 1s 18ms/step - loss: 0.5099 - accuracy: 0.8717\n",
      "Epoch 3/100\n",
      "59/59 [==============================] - 1s 18ms/step - loss: 0.4076 - accuracy: 0.8925\n",
      "Epoch 4/100\n",
      "59/59 [==============================] - 1s 16ms/step - loss: 0.3562 - accuracy: 0.9022\n",
      "Epoch 5/100\n",
      "59/59 [==============================] - 1s 15ms/step - loss: 0.3312 - accuracy: 0.9069\n",
      "Epoch 6/100\n",
      "59/59 [==============================] - 1s 20ms/step - loss: 0.3181 - accuracy: 0.9105\n",
      "Epoch 7/100\n",
      "59/59 [==============================] - 1s 14ms/step - loss: 0.2976 - accuracy: 0.9173\n",
      "Epoch 8/100\n",
      "59/59 [==============================] - 1s 11ms/step - loss: 0.2861 - accuracy: 0.9200\n",
      "Epoch 9/100\n",
      "59/59 [==============================] - 1s 24ms/step - loss: 0.2757 - accuracy: 0.9233\n",
      "Epoch 10/100\n",
      "59/59 [==============================] - 1s 16ms/step - loss: 0.2646 - accuracy: 0.9272\n",
      "Epoch 11/100\n",
      "59/59 [==============================] - 1s 12ms/step - loss: 0.2539 - accuracy: 0.9287\n",
      "Epoch 12/100\n",
      "59/59 [==============================] - 1s 18ms/step - loss: 0.2480 - accuracy: 0.9311\n",
      "Epoch 13/100\n",
      "59/59 [==============================] - 1s 12ms/step - loss: 0.2379 - accuracy: 0.9339\n",
      "Epoch 14/100\n",
      "59/59 [==============================] - 1s 15ms/step - loss: 0.2285 - accuracy: 0.9361\n",
      "Epoch 15/100\n",
      "59/59 [==============================] - 1s 14ms/step - loss: 0.2255 - accuracy: 0.9381\n",
      "Epoch 16/100\n",
      "59/59 [==============================] - 1s 11ms/step - loss: 0.2149 - accuracy: 0.9397\n",
      "Epoch 17/100\n",
      "59/59 [==============================] - 1s 15ms/step - loss: 0.2122 - accuracy: 0.9411\n",
      "Epoch 18/100\n",
      "59/59 [==============================] - 1s 18ms/step - loss: 0.2079 - accuracy: 0.9412\n",
      "Epoch 19/100\n",
      "59/59 [==============================] - 1s 13ms/step - loss: 0.1999 - accuracy: 0.9454\n",
      "Epoch 20/100\n",
      "59/59 [==============================] - 1s 17ms/step - loss: 0.1964 - accuracy: 0.9459\n",
      "Epoch 21/100\n",
      "59/59 [==============================] - 1s 13ms/step - loss: 0.1951 - accuracy: 0.9465\n",
      "Epoch 22/100\n",
      "59/59 [==============================] - 1s 11ms/step - loss: 0.1861 - accuracy: 0.9496\n",
      "Epoch 23/100\n",
      "59/59 [==============================] - 1s 14ms/step - loss: 0.1851 - accuracy: 0.9486\n",
      "Epoch 24/100\n",
      "59/59 [==============================] - 1s 17ms/step - loss: 0.1797 - accuracy: 0.9507\n",
      "Epoch 25/100\n",
      "59/59 [==============================] - 1s 15ms/step - loss: 0.1748 - accuracy: 0.9516\n",
      "Epoch 26/100\n",
      "59/59 [==============================] - 1s 16ms/step - loss: 0.1719 - accuracy: 0.9519\n",
      "Epoch 27/100\n",
      "59/59 [==============================] - 1s 12ms/step - loss: 0.1703 - accuracy: 0.9536\n",
      "Epoch 28/100\n",
      "59/59 [==============================] - 1s 22ms/step - loss: 0.1633 - accuracy: 0.9545\n",
      "Epoch 29/100\n",
      "59/59 [==============================] - 1s 13ms/step - loss: 0.1618 - accuracy: 0.9551\n",
      "Epoch 30/100\n",
      "59/59 [==============================] - 1s 14ms/step - loss: 0.1596 - accuracy: 0.9554\n",
      "Epoch 31/100\n",
      "59/59 [==============================] - 1s 14ms/step - loss: 0.1561 - accuracy: 0.9562\n",
      "Epoch 32/100\n",
      "59/59 [==============================] - 1s 13ms/step - loss: 0.1507 - accuracy: 0.9586\n",
      "Epoch 33/100\n",
      "59/59 [==============================] - 1s 17ms/step - loss: 0.1465 - accuracy: 0.9605\n",
      "Epoch 34/100\n",
      "59/59 [==============================] - 1s 13ms/step - loss: 0.1447 - accuracy: 0.9601\n",
      "Epoch 35/100\n",
      "59/59 [==============================] - 1s 15ms/step - loss: 0.1464 - accuracy: 0.9586\n",
      "Epoch 36/100\n",
      "59/59 [==============================] - 1s 17ms/step - loss: 0.1423 - accuracy: 0.9612\n",
      "Epoch 37/100\n",
      "59/59 [==============================] - 1s 12ms/step - loss: 0.1402 - accuracy: 0.9608\n",
      "Epoch 38/100\n",
      "59/59 [==============================] - 1s 12ms/step - loss: 0.1358 - accuracy: 0.9633\n",
      "Epoch 39/100\n",
      "59/59 [==============================] - 1s 14ms/step - loss: 0.1306 - accuracy: 0.9641\n",
      "Epoch 40/100\n",
      "59/59 [==============================] - 1s 13ms/step - loss: 0.1329 - accuracy: 0.9629\n",
      "Epoch 41/100\n",
      "59/59 [==============================] - 1s 12ms/step - loss: 0.1280 - accuracy: 0.9645\n",
      "Epoch 42/100\n",
      "59/59 [==============================] - 1s 14ms/step - loss: 0.1288 - accuracy: 0.9644\n",
      "Epoch 43/100\n",
      "59/59 [==============================] - 1s 16ms/step - loss: 0.1239 - accuracy: 0.9659\n",
      "Epoch 44/100\n",
      "59/59 [==============================] - 1s 13ms/step - loss: 0.1205 - accuracy: 0.9672\n",
      "Epoch 45/100\n",
      "59/59 [==============================] - 1s 13ms/step - loss: 0.1185 - accuracy: 0.9680\n",
      "Epoch 46/100\n",
      "59/59 [==============================] - 1s 18ms/step - loss: 0.1213 - accuracy: 0.9669\n",
      "Epoch 47/100\n",
      "59/59 [==============================] - 1s 15ms/step - loss: 0.1176 - accuracy: 0.9681\n",
      "Epoch 48/100\n",
      "59/59 [==============================] - 1s 15ms/step - loss: 0.1154 - accuracy: 0.9689\n",
      "Epoch 49/100\n",
      "59/59 [==============================] - 1s 14ms/step - loss: 0.1138 - accuracy: 0.9694\n",
      "Epoch 50/100\n",
      "59/59 [==============================] - 1s 13ms/step - loss: 0.1115 - accuracy: 0.9704\n",
      "Epoch 51/100\n",
      "59/59 [==============================] - 1s 15ms/step - loss: 0.1081 - accuracy: 0.9711\n",
      "Epoch 52/100\n",
      "59/59 [==============================] - 1s 15ms/step - loss: 0.1095 - accuracy: 0.9707\n",
      "Epoch 53/100\n",
      "59/59 [==============================] - 1s 16ms/step - loss: 0.1108 - accuracy: 0.9709\n",
      "Epoch 54/100\n",
      "59/59 [==============================] - 1s 15ms/step - loss: 0.1059 - accuracy: 0.9717\n",
      "Epoch 55/100\n",
      "59/59 [==============================] - 1s 17ms/step - loss: 0.1056 - accuracy: 0.9714\n",
      "Epoch 56/100\n",
      "59/59 [==============================] - 1s 16ms/step - loss: 0.1038 - accuracy: 0.9722\n",
      "Epoch 57/100\n",
      "59/59 [==============================] - 1s 12ms/step - loss: 0.1043 - accuracy: 0.9724\n",
      "Epoch 58/100\n",
      "59/59 [==============================] - 1s 16ms/step - loss: 0.1008 - accuracy: 0.9734\n",
      "Epoch 59/100\n",
      "59/59 [==============================] - 1s 15ms/step - loss: 0.0990 - accuracy: 0.9737\n",
      "Epoch 60/100\n",
      "59/59 [==============================] - 1s 16ms/step - loss: 0.0971 - accuracy: 0.9747\n",
      "Epoch 61/100\n",
      "59/59 [==============================] - 1s 12ms/step - loss: 0.0962 - accuracy: 0.9738\n",
      "Epoch 62/100\n",
      "59/59 [==============================] - 1s 14ms/step - loss: 0.0965 - accuracy: 0.9737\n",
      "Epoch 63/100\n",
      "59/59 [==============================] - 1s 13ms/step - loss: 0.0932 - accuracy: 0.9753\n",
      "Epoch 64/100\n",
      "59/59 [==============================] - 1s 16ms/step - loss: 0.0955 - accuracy: 0.9741\n",
      "Epoch 65/100\n",
      "59/59 [==============================] - 1s 14ms/step - loss: 0.0906 - accuracy: 0.9762\n",
      "Epoch 66/100\n",
      "59/59 [==============================] - 1s 17ms/step - loss: 0.0917 - accuracy: 0.9756\n",
      "Epoch 67/100\n",
      "59/59 [==============================] - 1s 13ms/step - loss: 0.0942 - accuracy: 0.9743\n",
      "Epoch 68/100\n",
      "59/59 [==============================] - 1s 12ms/step - loss: 0.0883 - accuracy: 0.9768\n",
      "Epoch 69/100\n",
      "59/59 [==============================] - 1s 14ms/step - loss: 0.0880 - accuracy: 0.9765\n",
      "Epoch 70/100\n",
      "59/59 [==============================] - 1s 15ms/step - loss: 0.0854 - accuracy: 0.9771\n",
      "Epoch 71/100\n",
      "59/59 [==============================] - 1s 17ms/step - loss: 0.0861 - accuracy: 0.9776\n",
      "Epoch 72/100\n",
      "59/59 [==============================] - 1s 20ms/step - loss: 0.0835 - accuracy: 0.9783\n",
      "Epoch 73/100\n",
      "59/59 [==============================] - 1s 18ms/step - loss: 0.0832 - accuracy: 0.9772\n",
      "Epoch 74/100\n",
      "59/59 [==============================] - 1s 15ms/step - loss: 0.0816 - accuracy: 0.9781\n",
      "Epoch 75/100\n",
      "59/59 [==============================] - 1s 12ms/step - loss: 0.0831 - accuracy: 0.9776\n",
      "Epoch 76/100\n",
      "59/59 [==============================] - 1s 12ms/step - loss: 0.0819 - accuracy: 0.9777\n",
      "Epoch 77/100\n",
      "59/59 [==============================] - 1s 14ms/step - loss: 0.0786 - accuracy: 0.9796\n",
      "Epoch 78/100\n",
      "59/59 [==============================] - 1s 12ms/step - loss: 0.0800 - accuracy: 0.9783\n",
      "Epoch 79/100\n",
      "59/59 [==============================] - 1s 15ms/step - loss: 0.0788 - accuracy: 0.9794\n",
      "Epoch 80/100\n",
      "59/59 [==============================] - 1s 21ms/step - loss: 0.0762 - accuracy: 0.9800\n",
      "Epoch 81/100\n",
      "59/59 [==============================] - 1s 16ms/step - loss: 0.0781 - accuracy: 0.9789\n",
      "Epoch 82/100\n",
      "59/59 [==============================] - 1s 17ms/step - loss: 0.0761 - accuracy: 0.9802\n",
      "Epoch 83/100\n",
      "59/59 [==============================] - 1s 15ms/step - loss: 0.0769 - accuracy: 0.9795\n",
      "Epoch 84/100\n",
      "59/59 [==============================] - 1s 12ms/step - loss: 0.0730 - accuracy: 0.9815\n",
      "Epoch 85/100\n",
      "59/59 [==============================] - 1s 20ms/step - loss: 0.0725 - accuracy: 0.9809\n",
      "Epoch 86/100\n",
      "59/59 [==============================] - 1s 17ms/step - loss: 0.0736 - accuracy: 0.9810\n",
      "Epoch 87/100\n",
      "59/59 [==============================] - 1s 18ms/step - loss: 0.0728 - accuracy: 0.9808\n",
      "Epoch 88/100\n",
      "59/59 [==============================] - 1s 16ms/step - loss: 0.0731 - accuracy: 0.9807\n",
      "Epoch 89/100\n",
      "59/59 [==============================] - 1s 22ms/step - loss: 0.0709 - accuracy: 0.9817\n",
      "Epoch 90/100\n",
      "59/59 [==============================] - 1s 18ms/step - loss: 0.0681 - accuracy: 0.9811\n",
      "Epoch 91/100\n",
      "59/59 [==============================] - 1s 18ms/step - loss: 0.0687 - accuracy: 0.9828\n",
      "Epoch 92/100\n",
      "59/59 [==============================] - 1s 23ms/step - loss: 0.0697 - accuracy: 0.9814\n",
      "Epoch 93/100\n",
      "59/59 [==============================] - 1s 15ms/step - loss: 0.0659 - accuracy: 0.9826\n",
      "Epoch 94/100\n",
      "59/59 [==============================] - 1s 16ms/step - loss: 0.0677 - accuracy: 0.9822\n",
      "Epoch 95/100\n",
      "59/59 [==============================] - 1s 23ms/step - loss: 0.0655 - accuracy: 0.9828\n",
      "Epoch 96/100\n",
      "59/59 [==============================] - 1s 21ms/step - loss: 0.0661 - accuracy: 0.9827\n",
      "Epoch 97/100\n",
      "59/59 [==============================] - 1s 19ms/step - loss: 0.0651 - accuracy: 0.9826\n",
      "Epoch 98/100\n",
      "59/59 [==============================] - 1s 19ms/step - loss: 0.0646 - accuracy: 0.9830\n",
      "Epoch 99/100\n",
      "59/59 [==============================] - 1s 22ms/step - loss: 0.0629 - accuracy: 0.9842\n",
      "Epoch 100/100\n",
      "59/59 [==============================] - 1s 21ms/step - loss: 0.0649 - accuracy: 0.9832\n"
     ]
    },
    {
     "output_type": "execute_result",
     "data": {
      "text/plain": [
       "<tensorflow.python.keras.callbacks.History at 0x7f99ecb93070>"
      ]
     },
     "metadata": {},
     "execution_count": 8
    }
   ],
   "source": [
    "model.fit(x_train, y_train, batch_size= 1024, epochs=100)"
   ]
  },
  {
   "source": [
    "** Evaluate**"
   ],
   "cell_type": "markdown",
   "metadata": {}
  },
  {
   "cell_type": "code",
   "execution_count": 9,
   "metadata": {},
   "outputs": [
    {
     "output_type": "stream",
     "name": "stdout",
     "text": [
      "1/1 [==============================] - 0s 223ms/step - loss: 0.0867 - accuracy: 0.9743\n"
     ]
    },
    {
     "output_type": "execute_result",
     "data": {
      "text/plain": [
       "[0.08666384220123291, 0.9743000268936157]"
      ]
     },
     "metadata": {},
     "execution_count": 9
    }
   ],
   "source": [
    "model.evaluate(x_test, y_test, batch_size = 10000)"
   ]
  },
  {
   "cell_type": "code",
   "execution_count": null,
   "metadata": {},
   "outputs": [],
   "source": []
  }
 ]
}